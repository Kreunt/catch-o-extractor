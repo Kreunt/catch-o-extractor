{
 "cells": [
  {
   "cell_type": "code",
   "execution_count": null,
   "metadata": {},
   "outputs": [],
   "source": [
    "from androguard.core.bytecodes import apk, dvm\n",
    "from androguard.misc import AnalyzeAPK\n",
    "import os\n",
    "\n",
    "benign_apk_folder = \"../benign-apks/\"\n",
    "malware_apk_folder = \"../malware-apks/\"\n",
    "apk_folders = [benign_apk_folder, malware_apk_folder]\n",
    "\n",
    "def extract_api_calls(apk_path):\n",
    "    a, d, dx = AnalyzeAPK(apk_path)\n",
    "    api_calls = set()\n",
    "\n",
    "    for method in dx.get_methods():\n",
    "        if method.is_external():\n",
    "            continue\n",
    "        for _, call, _ in method.get_xref_to():\n",
    "            api_calls.add(call.get_class_name() + '->' + call.get_name())\n",
    "\n",
    "    return list(api_calls)\n"
   ]
  },
  {
   "cell_type": "code",
   "execution_count": null,
   "metadata": {},
   "outputs": [],
   "source": [
    "api_calls_dict = {}\n",
    "for apk_folder in apk_folders:\n",
    "    for filename in os.listdir(apk_folder):\n",
    "        apk_path = os.path.join(apk_folder, filename)\n",
    "        try:\n",
    "            api_calls = extract_api_calls(apk_path)\n",
    "        except:\n",
    "            continue\n",
    "        if filename.startswith('VirusShare'):\n",
    "            file_hash = filename.split('_')[1].split('.')[0]\n",
    "        else:\n",
    "            file_hash = filename.replace('.apk', '')\n",
    "        api_calls_dict[file_hash] = api_calls\n",
    "        break\n",
    "\n",
    "print(api_calls_dict)"
   ]
  }
 ],
 "metadata": {
  "kernelspec": {
   "display_name": "Python 3",
   "language": "python",
   "name": "python3"
  },
  "language_info": {
   "codemirror_mode": {
    "name": "ipython",
    "version": 3
   },
   "file_extension": ".py",
   "mimetype": "text/x-python",
   "name": "python",
   "nbconvert_exporter": "python",
   "pygments_lexer": "ipython3",
   "version": "3.10.12"
  }
 },
 "nbformat": 4,
 "nbformat_minor": 2
}
