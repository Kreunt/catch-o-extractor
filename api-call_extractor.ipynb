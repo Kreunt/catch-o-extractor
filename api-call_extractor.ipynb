{
 "cells": [
  {
   "cell_type": "code",
   "execution_count": null,
   "execution_count": null,
   "metadata": {},
   "outputs": [],
   "outputs": [],
   "source": [
    "import os\n",
    "import pandas as pd\n",
    "import pickle\n",
    "from androguard.misc import AnalyzeAPK\n",
    "from multiprocessing import Pool\n",
    "\n",
    "def extract_api_calls(apk_path):\n",
    "    try:\n",
    "        a, d, dx = AnalyzeAPK(apk_path)\n",
    "        api_calls = set()\n",
    "        for method in dx.get_methods():\n",
    "            for _, call, _ in method.get_xref_to():\n",
    "                api_calls.add(str(call.class_name) + '->' + str(call.name) + str(call.descriptor))\n",
    "        return apk_path, list(api_calls)[:1000]\n",
    "    except Exception as e:\n",
    "        print(f\"Failed to analyze {apk_path}: {e}\")\n",
    "        return apk_path, []\n",
    "\n",
    "def process_apks(apk_dir):\n",
    "    apk_files = [os.path.join(apk_dir, f) for f in os.listdir(apk_dir) if f.endswith('.apk')]\n",
    "    with Pool() as pool:\n",
    "        results = pool.map(extract_api_calls, apk_files)\n",
    "    return results\n",
    "\n",
    "def save_to_pickle(data, output_file):\n",
    "    with open(output_file, 'wb') as f:\n",
    "        pickle.dump(data, f)\n",
    "\n",
    "def main(apk_dir, output_file):\n",
    "    results = process_apks(apk_dir)\n",
    "    df = pd.DataFrame(results, columns=['file_name', 'api_call_sequence'])\n",
    "    save_to_pickle(df, output_file)\n",
    "    print(f\"Saved data to {output_file}\")\n",
    "\n",
    "\n",
    "apk_directory = \"path/to/apk/directory\"\n",
    "output_pickle_file = \"api_calls_sequences.pkl\"\n",
    "main(apk_directory, output_pickle_file)"
   ]
  }
 ],
 "metadata": {
  "kernelspec": {
   "display_name": "Python 3",
   "language": "python",
   "name": "python3"
  },
  "language_info": {
   "codemirror_mode": {
    "name": "ipython",
    "version": 3
   },
   "file_extension": ".py",
   "mimetype": "text/x-python",
   "name": "python",
   "nbconvert_exporter": "python",
   "pygments_lexer": "ipython3",
   "version": "3.10.12"
  }
 },
 "nbformat": 4,
 "nbformat_minor": 2
}
