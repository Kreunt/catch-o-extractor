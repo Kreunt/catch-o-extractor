{
 "cells": [
  {
   "cell_type": "code",
   "execution_count": 1,
   "metadata": {},
   "outputs": [
    {
     "ename": "ModuleNotFoundError",
     "evalue": "No module named 'androguard'",
     "output_type": "error",
     "traceback": [
      "\u001b[0;31m---------------------------------------------------------------------------\u001b[0m",
      "\u001b[0;31mModuleNotFoundError\u001b[0m                       Traceback (most recent call last)",
      "Cell \u001b[0;32mIn[1], line 1\u001b[0m\n\u001b[0;32m----> 1\u001b[0m \u001b[38;5;28;01mfrom\u001b[39;00m \u001b[38;5;21;01mandroguard\u001b[39;00m\u001b[38;5;21;01m.\u001b[39;00m\u001b[38;5;21;01mcore\u001b[39;00m\u001b[38;5;21;01m.\u001b[39;00m\u001b[38;5;21;01mbytecodes\u001b[39;00m \u001b[38;5;28;01mimport\u001b[39;00m apk, dvm\n\u001b[1;32m      2\u001b[0m \u001b[38;5;28;01mfrom\u001b[39;00m \u001b[38;5;21;01mandroguard\u001b[39;00m\u001b[38;5;21;01m.\u001b[39;00m\u001b[38;5;21;01mmisc\u001b[39;00m \u001b[38;5;28;01mimport\u001b[39;00m AnalyzeAPK\n\u001b[1;32m      3\u001b[0m \u001b[38;5;28;01mimport\u001b[39;00m \u001b[38;5;21;01mpickle\u001b[39;00m\n",
      "\u001b[0;31mModuleNotFoundError\u001b[0m: No module named 'androguard'"
     ]
    }
   ],
   "source": [
    "from androguard.core.bytecodes import apk, dvm\n",
    "from androguard.misc import AnalyzeAPK\n",
    "import pickle\n",
    "import os\n",
    "\n",
    "benign_apk_folder = \"../benign-apks/\"\n",
    "malware_apk_folder = \"../malware-apks/\"\n",
    "apk_folders = [benign_apk_folder, malware_apk_folder]\n",
    "\n",
    "def extract_api_calls(apk_path):\n",
    "    a, d, dx = AnalyzeAPK(apk_path)\n",
    "    api_calls = set()\n",
    "\n",
    "    for method in dx.get_methods():\n",
    "        if method.is_external():\n",
    "            continue\n",
    "        for _, call, _ in method.get_xref_to():\n",
    "            api_calls.add(call.get_class_name() + '->' + call.get_name())\n",
    "\n",
    "    return list(api_calls)\n",
    "def save_api_calls(api_calls, filename):\n",
    "    with open(filename, 'wb') as f:\n",
    "        pickle.dump(api_calls, f)\n",
    "\n",
    "def load_api_calls(filename):\n",
    "    with open(filename, 'rb') as f:\n",
    "        return pickle.load(f)\n"
   ]
  },
  {
   "cell_type": "code",
   "execution_count": null,
   "metadata": {},
   "outputs": [],
   "source": [
    "api_calls_dict = {}\n",
    "for apk_folder in apk_folders:\n",
    "    for filename in os.listdir(apk_folder):\n",
    "        apk_path = os.path.join(apk_folder, filename)\n",
    "        try:\n",
    "            api_calls = extract_api_calls(apk_path)\n",
    "        except:\n",
    "            continue\n",
    "        if filename.startswith('VirusShare'):\n",
    "            file_hash = filename.split('_')[1].split('.')[0]\n",
    "        else:\n",
    "            file_hash = filename.replace('.apk', '')\n",
    "        api_calls_dict[file_hash] = api_calls\n",
    "        break\n",
    "\n",
    "print(api_calls_dict)"
   ]
  }
 ],
 "metadata": {
  "kernelspec": {
   "display_name": "Python 3",
   "language": "python",
   "name": "python3"
  },
  "language_info": {
   "codemirror_mode": {
    "name": "ipython",
    "version": 3
   },
   "file_extension": ".py",
   "mimetype": "text/x-python",
   "name": "python",
   "nbconvert_exporter": "python",
   "pygments_lexer": "ipython3",
   "version": "3.10.12"
  }
 },
 "nbformat": 4,
 "nbformat_minor": 2
}
