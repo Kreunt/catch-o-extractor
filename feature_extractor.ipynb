{
 "cells": [
  {
   "cell_type": "code",
   "execution_count": null,
   "metadata": {},
   "outputs": [],
   "source": [
    "import pandas as pd\n",
    "import os\n",
    "from androguard.core.bytecodes.apk import APK"
   ]
  },
  {
   "cell_type": "code",
   "execution_count": null,
   "metadata": {},
   "outputs": [],
   "source": [
    "def extract_permissions(apk_folder):\n",
    "    permissions = []\n",
    "    for filename in os.listdir(apk_folder):\n",
    "        if filename:\n",
    "            apk_path = os.path.join(apk_folder, filename)\n",
    "            try:\n",
    "                a = APK(apk_path)\n",
    "            except:\n",
    "                continue\n",
    "            app_permissions = a.get_permissions()\n",
    "            permissions.extend(app_permissions)\n",
    "    return list(set(permissions))\n",
    "\n",
    "apk_folder = \"apks\"\n",
    "app_permissions = extract_permissions(apk_folder)\n"
   ]
  },
  {
   "cell_type": "code",
   "execution_count": null,
   "metadata": {},
   "outputs": [],
   "source": [
    "permission_cols = sorted(app_permissions)\n",
    "permissions = {}\n",
    "for filename in os.listdir(\"apks\"):\n",
    "    if filename:\n",
    "        apk_path = os.path.join(\"apks\", filename)\n",
    "        try:\n",
    "            apk = APK(apk_path)\n",
    "        except:\n",
    "            print(\"Error: \" + apk_path)\n",
    "            continue\n",
    "        app_permissions = apk.get_permissions()\n",
    "        if filename.startswith('VirusShare'):\n",
    "            file_hash = filename.split('_')[1].split('.')[0]\n",
    "        else:\n",
    "            file_hash = filename\n",
    "        permissions[file_hash] = app_permissions\n",
    "\n"
   ]
  },
  {
   "cell_type": "code",
   "execution_count": null,
   "metadata": {},
   "outputs": [],
   "source": [
    "def display_permissions(permissions_dict, permission_cols):\n",
    "    data = []\n",
    "    for apk, permissions in permissions_dict.items():\n",
    "        row = [1 if col in permissions else 0 for col in permission_cols]\n",
    "        data.append(row)\n",
    "    \n",
    "    df = pd.DataFrame(data, index=permissions_dict.keys(), columns=permission_cols)\n",
    "    return df\n",
    "permissionDF = display_permissions(permissions, permission_cols)"
   ]
  },
  {
   "cell_type": "code",
   "execution_count": null,
   "metadata": {},
   "outputs": [],
   "source": [
    "permissionDF"
   ]
  },
  {
   "cell_type": "code",
   "execution_count": null,
   "metadata": {},
   "outputs": [],
   "source": [
    "permissions['71fabdfba42069aa41e7baafdbaa0538']"
   ]
  }
 ],
 "metadata": {
  "kernelspec": {
   "display_name": "Python 3",
   "language": "python",
   "name": "python3"
  },
  "language_info": {
   "codemirror_mode": {
    "name": "ipython",
    "version": 3
   },
   "file_extension": ".py",
   "mimetype": "text/x-python",
   "name": "python",
   "nbconvert_exporter": "python",
   "pygments_lexer": "ipython3",
   "version": "3.10.12"
  }
 },
 "nbformat": 4,
 "nbformat_minor": 2
}
